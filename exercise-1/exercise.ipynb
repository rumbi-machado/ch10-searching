{
 "cells": [
  {
   "cell_type": "markdown",
   "metadata": {},
   "source": [
    "# Exercise 1\n",
    "Add the specified code for each code cell, running the cells _in order_."
   ]
  },
  {
   "cell_type": "markdown",
   "metadata": {},
   "source": [
    "Create a variable **`deck`** that represents a deck of [playing cards](https://en.wikipedia.org/wiki/Playing_card). This variable should be a _list_ of 52 elements, each of which is a dictionary with the following keys:\n",
    "- `suit`, with a string value that is either `'hearts'`, `'diamonds'`, `'clubs'`, or `'spades'`.\n",
    "- `rank`, with an interger value ranging from 2 to 14 inclusive (11-14 represent a Jack, Queen, King, or Ace respectively).\n",
    "\n",
    "_Tip:_ use a pair of nested loops to add each combination of suit and rank to the `deck` list!"
   ]
  },
  {
   "cell_type": "code",
   "execution_count": 2,
   "metadata": {},
   "outputs": [
    {
     "data": {
      "text/plain": [
       "[{'rank': 2, 'suit': 'hearts'},\n",
       " {'rank': 3, 'suit': 'hearts'},\n",
       " {'rank': 4, 'suit': 'hearts'},\n",
       " {'rank': 5, 'suit': 'hearts'},\n",
       " {'rank': 6, 'suit': 'hearts'},\n",
       " {'rank': 7, 'suit': 'hearts'},\n",
       " {'rank': 8, 'suit': 'hearts'},\n",
       " {'rank': 9, 'suit': 'hearts'},\n",
       " {'rank': 10, 'suit': 'hearts'},\n",
       " {'rank': 11, 'suit': 'hearts'},\n",
       " {'rank': 12, 'suit': 'hearts'},\n",
       " {'rank': 13, 'suit': 'hearts'},\n",
       " {'rank': 14, 'suit': 'hearts'},\n",
       " {'rank': 2, 'suit': 'diamonds'},\n",
       " {'rank': 3, 'suit': 'diamonds'},\n",
       " {'rank': 4, 'suit': 'diamonds'},\n",
       " {'rank': 5, 'suit': 'diamonds'},\n",
       " {'rank': 6, 'suit': 'diamonds'},\n",
       " {'rank': 7, 'suit': 'diamonds'},\n",
       " {'rank': 8, 'suit': 'diamonds'},\n",
       " {'rank': 9, 'suit': 'diamonds'},\n",
       " {'rank': 10, 'suit': 'diamonds'},\n",
       " {'rank': 11, 'suit': 'diamonds'},\n",
       " {'rank': 12, 'suit': 'diamonds'},\n",
       " {'rank': 13, 'suit': 'diamonds'},\n",
       " {'rank': 14, 'suit': 'diamonds'},\n",
       " {'rank': 2, 'suit': 'clubs'},\n",
       " {'rank': 3, 'suit': 'clubs'},\n",
       " {'rank': 4, 'suit': 'clubs'},\n",
       " {'rank': 5, 'suit': 'clubs'},\n",
       " {'rank': 6, 'suit': 'clubs'},\n",
       " {'rank': 7, 'suit': 'clubs'},\n",
       " {'rank': 8, 'suit': 'clubs'},\n",
       " {'rank': 9, 'suit': 'clubs'},\n",
       " {'rank': 10, 'suit': 'clubs'},\n",
       " {'rank': 11, 'suit': 'clubs'},\n",
       " {'rank': 12, 'suit': 'clubs'},\n",
       " {'rank': 13, 'suit': 'clubs'},\n",
       " {'rank': 14, 'suit': 'clubs'},\n",
       " {'rank': 2, 'suit': 'spades'},\n",
       " {'rank': 3, 'suit': 'spades'},\n",
       " {'rank': 4, 'suit': 'spades'},\n",
       " {'rank': 5, 'suit': 'spades'},\n",
       " {'rank': 6, 'suit': 'spades'},\n",
       " {'rank': 7, 'suit': 'spades'},\n",
       " {'rank': 8, 'suit': 'spades'},\n",
       " {'rank': 9, 'suit': 'spades'},\n",
       " {'rank': 10, 'suit': 'spades'},\n",
       " {'rank': 11, 'suit': 'spades'},\n",
       " {'rank': 12, 'suit': 'spades'},\n",
       " {'rank': 13, 'suit': 'spades'},\n",
       " {'rank': 14, 'suit': 'spades'}]"
      ]
     },
     "execution_count": 2,
     "metadata": {},
     "output_type": "execute_result"
    }
   ],
   "source": [
    "#create a deck of cards\n",
    "deck = [] #start with an empty deck\n",
    "#suits = ['hearts', 'diamonds', 'clubs', 'spades']\n",
    "#can write a loop\n",
    "for suit in ['hearts', 'diamonds', 'clubs', 'spades']:\n",
    "    for rank in range (2, 15): #15 so that it is incluseive of 2-14 # \n",
    "        card = {'suit' : suit, 'rank' : rank} #make a dict\n",
    "        #print(card)\n",
    "        deck.append(card)#put card into the empty dictionary by using append\n",
    "deck"
   ]
  },
  {
   "cell_type": "markdown",
   "metadata": {},
   "source": [
    "Create a list **hand** that represents a hand of [Poker](https://en.wikipedia.org/wiki/Poker) (5-card draw). Add 5 cards from the `deck` to this list.\n",
    "- You can add 5 specific cards for testing (check their indices!), or use the `random.shuffle()` function to shuffle the deck and then _slice_ 5 cards from the top.\n",
    "\n",
    "Print out the `hand` so you know what you are dealing with!"
   ]
  },
  {
   "cell_type": "code",
   "execution_count": 4,
   "metadata": {},
   "outputs": [
    {
     "data": {
      "text/plain": [
       "[{'rank': 5, 'suit': 'hearts'},\n",
       " {'rank': 4, 'suit': 'diamonds'},\n",
       " {'rank': 2, 'suit': 'diamonds'},\n",
       " {'rank': 12, 'suit': 'clubs'},\n",
       " {'rank': 13, 'suit': 'hearts'}]"
      ]
     },
     "execution_count": 4,
     "metadata": {},
     "output_type": "execute_result"
    }
   ],
   "source": [
    "#accsessing list with bracket notation\n",
    "import random\n",
    "random.shuffle(deck)\n",
    "#dealing with a list we always use bracket notation\n",
    "hand = deck[:5]\n",
    "hand"
   ]
  },
  {
   "cell_type": "markdown",
   "metadata": {},
   "source": [
    "Define a function **`contains_queen_of_hearts()`** that takes in a list of cards (e.g., a hand) and returns whether or not the Queen of Hearts is in that list. _For practice, don't use the `in` operator to check for containment_."
   ]
  },
  {
   "cell_type": "code",
   "execution_count": 10,
   "metadata": {},
   "outputs": [
    {
     "data": {
      "text/plain": [
       "False"
      ]
     },
     "execution_count": 10,
     "metadata": {},
     "output_type": "execute_result"
    }
   ],
   "source": [
    "def contains_queen_of_hearts(list_of_cards):\n",
    "    for card in list_of_cards:\n",
    "        if card =={'suit' : 'hearts', 'rank' : 12}:\n",
    "            return True\n",
    "    return False\n",
    "\n",
    "contains_queen_of_hearts(hand)"
   ]
  },
  {
   "cell_type": "markdown",
   "metadata": {},
   "source": [
    "Define a function **`get_high_card()`** that takes in a list of cards and returns the card (dictionary) of the highest value. The \"high card\" is the one with the highest rank. Cards of different suits but the same rank are considered to have the same value and either may be returned.\n",
    "- Hint: use a \"king-of-the-hill\" search!"
   ]
  },
  {
   "cell_type": "code",
   "execution_count": 12,
   "metadata": {},
   "outputs": [
    {
     "ename": "NameError",
     "evalue": "name 'a_list' is not defined",
     "output_type": "error",
     "traceback": [
      "\u001b[0;31m---------------------------------------------------------------------------\u001b[0m",
      "\u001b[0;31mNameError\u001b[0m                                 Traceback (most recent call last)",
      "\u001b[0;32m<ipython-input-12-fcfbfcdb1f06>\u001b[0m in \u001b[0;36m<module>\u001b[0;34m()\u001b[0m\n\u001b[1;32m      6\u001b[0m     \u001b[0;32mreturn\u001b[0m \u001b[0mhighest_card\u001b[0m\u001b[0;34m\u001b[0m\u001b[0m\n\u001b[1;32m      7\u001b[0m \u001b[0;34m\u001b[0m\u001b[0m\n\u001b[0;32m----> 8\u001b[0;31m \u001b[0mget_high_card\u001b[0m\u001b[0;34m(\u001b[0m\u001b[0mdeck\u001b[0m\u001b[0;34m)\u001b[0m\u001b[0;34m\u001b[0m\u001b[0m\n\u001b[0m",
      "\u001b[0;32m<ipython-input-12-fcfbfcdb1f06>\u001b[0m in \u001b[0;36mget_high_card\u001b[0;34m(list_of_cards)\u001b[0m\n\u001b[1;32m      1\u001b[0m \u001b[0;32mdef\u001b[0m \u001b[0mget_high_card\u001b[0m\u001b[0;34m(\u001b[0m\u001b[0mlist_of_cards\u001b[0m\u001b[0;34m)\u001b[0m\u001b[0;34m:\u001b[0m\u001b[0;34m\u001b[0m\u001b[0m\n\u001b[0;32m----> 2\u001b[0;31m     \u001b[0mhighest_card\u001b[0m \u001b[0;34m=\u001b[0m \u001b[0ma_list\u001b[0m\u001b[0;34m[\u001b[0m\u001b[0;36m0\u001b[0m\u001b[0;34m]\u001b[0m\u001b[0;34m\u001b[0m\u001b[0m\n\u001b[0m\u001b[1;32m      3\u001b[0m     \u001b[0;32mfor\u001b[0m \u001b[0mcard\u001b[0m \u001b[0;32min\u001b[0m \u001b[0ma_list\u001b[0m\u001b[0;34m:\u001b[0m\u001b[0;34m\u001b[0m\u001b[0m\n\u001b[1;32m      4\u001b[0m         \u001b[0;32mif\u001b[0m \u001b[0mcard\u001b[0m\u001b[0;34m[\u001b[0m\u001b[0;34m'rank'\u001b[0m\u001b[0;34m]\u001b[0m \u001b[0;34m>\u001b[0m \u001b[0mhighest_card\u001b[0m\u001b[0;34m[\u001b[0m\u001b[0;34m'rank'\u001b[0m\u001b[0;34m]\u001b[0m\u001b[0;34m:\u001b[0m\u001b[0;34m\u001b[0m\u001b[0m\n\u001b[1;32m      5\u001b[0m             \u001b[0mhighest_card\u001b[0m \u001b[0;34m=\u001b[0m \u001b[0mcard\u001b[0m\u001b[0;34m\u001b[0m\u001b[0m\n",
      "\u001b[0;31mNameError\u001b[0m: name 'a_list' is not defined"
     ]
    }
   ],
   "source": [
    "def get_high_card(list_of_cards):\n",
    "    highest_card = a_list[0]\n",
    "    for card in a_list:\n",
    "        if card['rank'] > highest_card['rank']:\n",
    "            highest_card = card\n",
    "    return highest_card\n",
    "\n",
    "get_high_card(deck)"
   ]
  },
  {
   "cell_type": "markdown",
   "metadata": {},
   "source": [
    "Define a function **`is_flush()`** that takes in a list of cards and returns whether or not the list represents a _flush_&mdash;that is, all of the cards have the same _suit_."
   ]
  },
  {
   "cell_type": "code",
   "execution_count": 13,
   "metadata": {},
   "outputs": [
    {
     "data": {
      "text/plain": [
       "False"
      ]
     },
     "execution_count": 13,
     "metadata": {},
     "output_type": "execute_result"
    }
   ],
   "source": [
    "def is_flush(a_list):\n",
    "    target_suit = a_list[0]['suit']\n",
    "    is_flush = True\n",
    "    for card in a_list:\n",
    "        if card['suit'] != target_suit:\n",
    "            return False\n",
    "    return True\n",
    "is_flush(hand)"
   ]
  },
  {
   "cell_type": "markdown",
   "metadata": {},
   "source": [
    "_Challenge_: Define a functon **`has_pair()`** that takes in a list of cards and returns whether or not there is at least one _pair_ (two cards with the same _rank_) in the list.\n",
    "\n",
    "_Bonus challenge:_ Return the rank of the pair of cards with the highest rank (e.g., if there is more than one pair!) "
   ]
  },
  {
   "cell_type": "code",
   "execution_count": null,
   "metadata": {},
   "outputs": [],
   "source": []
  }
 ],
 "metadata": {
  "kernelspec": {
   "display_name": "Python 3",
   "language": "python",
   "name": "python3"
  },
  "language_info": {
   "codemirror_mode": {
    "name": "ipython",
    "version": 3
   },
   "file_extension": ".py",
   "mimetype": "text/x-python",
   "name": "python",
   "nbconvert_exporter": "python",
   "pygments_lexer": "ipython3",
   "version": "3.6.4"
  },
  "toc": {
   "colors": {
    "hover_highlight": "#DAA520",
    "running_highlight": "#FF0000",
    "selected_highlight": "#FFD700"
   },
   "moveMenuLeft": true,
   "nav_menu": {
    "height": "30px",
    "width": "252px"
   },
   "navigate_menu": true,
   "number_sections": true,
   "sideBar": true,
   "threshold": 4,
   "toc_cell": false,
   "toc_section_display": "block",
   "toc_window_display": false,
   "widenNotebook": false
  }
 },
 "nbformat": 4,
 "nbformat_minor": 2
}
